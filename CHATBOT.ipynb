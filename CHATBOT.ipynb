{
  "cells": [
    {
      "cell_type": "markdown",
      "metadata": {
        "id": "view-in-github",
        "colab_type": "text"
      },
      "source": [
        "<a href=\"https://colab.research.google.com/github/0201csds098/Chatbot-/blob/main/CHATBOT.ipynb\" target=\"_parent\"><img src=\"https://colab.research.google.com/assets/colab-badge.svg\" alt=\"Open In Colab\"/></a>"
      ]
    },
    {
      "cell_type": "code",
      "execution_count": null,
      "metadata": {
        "colab": {
          "background_save": true,
          "base_uri": "https://localhost:8080/"
        },
        "id": "7Veo8DLq3_2t",
        "outputId": "37881b88-6e79-430c-b282-67dc1505fcff"
      },
      "outputs": [
        {
          "name": "stdout",
          "output_type": "stream",
          "text": [
            "********************************************************************\n",
            "Hi! I am a chatbot Jarvis Created by Harsh vardhan singh\n",
            "How can I help you ?\n",
            "Hey there\n",
            "As you expected it is a good reputated College in NCR region.\n"
          ]
        }
      ],
      "source": [
        "import nltk\n",
        "from nltk.chat.util import Chat, reflections\n",
        "pairs = [\n",
        "    [\n",
        "        r\"Fine\",\n",
        "        [\"Nice\",]\n",
        "    ],\n",
        "    [\n",
        "        r\"My name is (. *) (.*)\",\n",
        "        [\"your first name is %1 and surname are %2\",]\n",
        "    ],\n",
        "    [\n",
        "        r\"Exit\",\n",
        "        [\"Bye!\",]\n",
        "    ],\n",
        "    [\n",
        "        r\"hi|hey|hello\",\n",
        "        [\"Hello\", \"Hey there\",]\n",
        "    ],\n",
        "    [\n",
        "        r\"How was this College for Engineering?\",\n",
        "        [\"As you expected it is a good reputated College in NCR region.\",]\n",
        "    ],\n",
        "    [\n",
        "        r\"How many branches available for engineering in NIET?\",\n",
        "        [\"There are Total 10 Branches with Specialization \",]\n",
        "    ],\n",
        "    [\n",
        "        r\"How many Specialzation Availabe?\",\n",
        "        [\"4 in field of Computer Science\",]\n",
        "    ],\n",
        "    [\n",
        "        r\"Tell me name of these branches?\",\n",
        "        [\"DataScience,IOT,AI\\ML,and Business system\",]\n",
        "    ],\n",
        "    [\n",
        "        r\"How much fees of every year in Btech\",\n",
        "        [\"Total fees per Year is 1,13,200 for all Branches\",]\n",
        "    ],\n",
        "    [\n",
        "        r\"What is the Average and Highest Package of Niet In Engineering?\",\n",
        "        [\"Average is 4lac/annum,Highest is 13lac/annum\",]\n",
        "    ],\n",
        "    [\n",
        "        r\"Tell me something Special about this College?\",\n",
        "        [\"It has Huge Library,Hightech Labs,Has autonomous Credential\",]\n",
        "    ],\n",
        "    [\n",
        "        r\"How much Hostel Fees they Charge for 1 year?\",\n",
        "        [\"They Charge 95,000 per Year\",]\n",
        "    ],\n",
        "    [\n",
        "        r\"How many students got placed every year\",\n",
        "        [\"Near about 95% students placed every year from Niet\",]\n",
        "    ],\n",
        "]\n",
        "\n",
        "\n",
        "def chat():\n",
        "    print(\"********************************************************************\")\n",
        "    print(\"Hi! I am a chatbot Jarvis Created by Harsh vardhan singh\")\n",
        "    print(\"How can I help you ?\")\n",
        "    chat = Chat(pairs, reflections)\n",
        "    chat.converse()\n",
        "\n",
        "\n",
        "if __name__ == \"__main__\":\n",
        "    chat()\n",
        "\n"
      ]
    }
  ],
  "metadata": {
    "colab": {
      "provenance": [],
      "include_colab_link": true
    },
    "kernelspec": {
      "display_name": "Python 3",
      "name": "python3"
    },
    "language_info": {
      "name": "python"
    }
  },
  "nbformat": 4,
  "nbformat_minor": 0
}